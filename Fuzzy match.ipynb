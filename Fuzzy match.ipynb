{
 "cells": [
  {
   "cell_type": "code",
   "execution_count": 1,
   "id": "d8737d0d-c2b6-40c6-87f2-19ccc3f69c55",
   "metadata": {},
   "outputs": [
    {
     "name": "stdout",
     "output_type": "stream",
     "text": [
      "Requirement already satisfied: fuzzywuzzy in c:\\python311\\lib\\site-packages (0.18.0)\n"
     ]
    },
    {
     "name": "stderr",
     "output_type": "stream",
     "text": [
      "\n",
      "[notice] A new release of pip available: 22.3.1 -> 23.3\n",
      "[notice] To update, run: python.exe -m pip install --upgrade pip\n"
     ]
    }
   ],
   "source": [
    "!pip install fuzzywuzzy\n"
   ]
  },
  {
   "cell_type": "code",
   "execution_count": 21,
   "id": "67d2f1a4",
   "metadata": {},
   "outputs": [
    {
     "name": "stdout",
     "output_type": "stream",
     "text": [
      "Token: Kerala, Canonical name: Kerala, Place Type: state\n",
      "Token: Koyampuththoor, Canonical name: Coimbatore, Place Type: district\n",
      "Token: Bombay, Canonical name: Mumbai, Place Type: district\n"
     ]
    },
    {
     "ename": "",
     "evalue": "",
     "output_type": "error",
     "traceback": [
      "\u001b[1;31mThe Kernel crashed while executing code in the the current cell or a previous cell. Please review the code in the cell(s) to identify a possible cause of the failure. Click <a href='https://aka.ms/vscodeJupyterKernelCrash'>here</a> for more info. View Jupyter <a href='command:jupyter.viewOutput'>log</a> for further details."
     ]
    }
   ],
   "source": [
    "import csv\n",
    "from fuzzywuzzy import fuzz\n",
    "\n",
    "similarity_threshold = 80  \n",
    "\n",
    "def load_dataset(file_path):\n",
    "    dataset = []\n",
    "    with open(file_path, 'r', newline='', encoding='utf-8') as csvfile:\n",
    "        reader = csv.DictReader(csvfile)\n",
    "        for row in reader:\n",
    "            row['other-names'] = [name.strip() for name in row['other-names'].split(',')]\n",
    "            dataset.append(row)\n",
    "    return dataset\n",
    "\n",
    "def perform_fuzzy_matching(extracted_name, dataset):\n",
    "    best_match = None\n",
    "    highest_similarity = 0\n",
    "    \n",
    "    for row in dataset:\n",
    "    \n",
    "        for other_name in row['other-names']:\n",
    "            if other_name:\n",
    "                similarity = fuzz.ratio(extracted_name.lower(), other_name.lower())\n",
    "                if similarity > similarity_threshold and similarity > highest_similarity:\n",
    "                    best_match = row\n",
    "                    highest_similarity = similarity\n",
    "    \n",
    "    return best_match\n",
    "\n",
    "dataset = load_dataset('Datasets/place_name.csv')\n",
    "\n",
    "extracted_names = [\"Kerala\", \"Koyampuththoor\", \"Bombay\"]\n",
    "\n",
    "for extracted_name in extracted_names:\n",
    "    best_match = perform_fuzzy_matching(extracted_name, dataset)\n",
    "    \n",
    "    if best_match:\n",
    "        canonical_name = best_match[\"canonical name\"]\n",
    "        place_type = best_match[\"place-type\"]\n",
    "        other_names = ', '.join(best_match[\"other-names\"])\n",
    "        print(f\"Token: {extracted_name}, Canonical name: {canonical_name}, Place Type: {place_type}\")\n",
    "    else:\n",
    "        print(f\"Token: {extracted_name}, No matching canonical name found\")\n"
   ]
  },
  {
   "cell_type": "code",
   "execution_count": null,
   "id": "206d0e27-71d0-45ff-b2bc-63cc4d906a52",
   "metadata": {},
   "outputs": [],
   "source": []
  },
  {
   "cell_type": "code",
   "execution_count": null,
   "id": "6d4e88e3-01c8-4c4c-a31b-e77dc0c27182",
   "metadata": {},
   "outputs": [],
   "source": []
  }
 ],
 "metadata": {
  "kernelspec": {
   "display_name": "Python 3 (ipykernel)",
   "language": "python",
   "name": "python3"
  },
  "language_info": {
   "codemirror_mode": {
    "name": "ipython",
    "version": 3
   },
   "file_extension": ".py",
   "mimetype": "text/x-python",
   "name": "python",
   "nbconvert_exporter": "python",
   "pygments_lexer": "ipython3",
   "version": "3.11.3"
  }
 },
 "nbformat": 4,
 "nbformat_minor": 5
}
